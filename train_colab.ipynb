{
 "cells": [
  {
   "cell_type": "markdown",
   "metadata": {},
   "source": [
    "# Kyrgyz Diacritics Restorer using Transformer\n",
    "\n",
    "This notebook implements a Transformer-based model for restoring diacritics in Kyrgyz text."
   ]
  },
  {
   "cell_type": "code",
   "execution_count": null,
   "metadata": {},
   "outputs": [],
   "source": [
    "# Mount Google Drive\n",
    "from google.colab import drive\n",
    "drive.mount('/content/drive')"
   ]
  },
  {
   "cell_type": "code",
   "execution_count": null,
   "metadata": {},
   "outputs": [],
   "source": [
    "!ls -lah /content/drive/MyDrive/ky_diacritics_dataset.zip"
   ]
  },
  {
   "cell_type": "code",
   "execution_count": null,
   "metadata": {},
   "outputs": [],
   "source": [
    "# Clone the repository\n",
    "!git clone https://github.com/jumasheff/ky_diacritics_restorer.git\n",
    "%cd ky_diacritics_restorer"
   ]
  },
  {
   "cell_type": "code",
   "execution_count": null,
   "metadata": {},
   "outputs": [],
   "source": [
    "!unzip /content/drive/MyDrive/ky_diacritics_dataset.zip -d /content/ky_diacritics_restorer/"
   ]
  },
  {
   "cell_type": "code",
   "execution_count": null,
   "metadata": {},
   "outputs": [],
   "source": [
    "# Import necessary libraries\n",
    "import torch\n",
    "from model import KyrgyzTextDataset, DiacriticsRestorer\n",
    "from train import train, test_model"
   ]
  },
  {
   "cell_type": "code",
   "execution_count": null,
   "metadata": {},
   "outputs": [],
   "source": [
    "# Set training parameters\n",
    "EPOCHS = 10\n",
    "BATCH_SIZE = 32\n",
    "LEARNING_RATE = 1e-4\n",
    "\n",
    "# Check if GPU is available\n",
    "device = torch.device('cuda' if torch.cuda.is_available() else 'cpu')\n",
    "print(f'Using device: {device}')"
   ]
  },
  {
   "cell_type": "code",
   "execution_count": null,
   "metadata": {},
   "outputs": [],
   "source": [
    "# Load dataset\n",
    "dataset = KyrgyzTextDataset(\n",
    "    'dataset.tsv',\n",
    "    max_len=512,\n",
    "    sample_ratio=0.25,  # Use 25% of the data\n",
    "    val_ratio=0.1,      # 10% of that 25% will be validation\n",
    "    seed=42             # For reproducibility\n",
    ")\n",
    "# Print dataset information\n",
    "info = dataset.get_dataset_info()\n",
    "print(\"\\nDataset Information:\")\n",
    "print(f\"Total samples: {info['total_samples']}\")\n",
    "print(f\"Used samples: {info['used_samples']}\")\n",
    "print(f\"Training samples: {info['train_samples']}\")\n",
    "print(f\"Validation samples: {info['val_samples']}\")\n",
    "print(f\"Vocabulary size: {info['vocab_size']}\")\n",
    "print(f\"Max sequence length: {info['max_len']}\")"
   ]
  },
  {
   "cell_type": "code",
   "execution_count": null,
   "metadata": {},
   "outputs": [],
   "source": [
    "# Create model\n",
    "model = DiacriticsRestorer(\n",
    "    vocab_size=len(dataset.char_to_idx),\n",
    "    d_model=256,\n",
    "    nhead=8,\n",
    "    num_encoder_layers=6,\n",
    "    dim_feedforward=1024,\n",
    "    dropout=0.1,\n",
    "    max_len=512\n",
    ")"
   ]
  },
  {
   "cell_type": "code",
   "execution_count": null,
   "metadata": {},
   "outputs": [],
   "source": [
    "# Train model\n",
    "train_losses, _ = train(\n",
    "    model=model,\n",
    "    train_dataset=dataset,\n",
    "    epochs=EPOCHS,\n",
    "    batch_size=BATCH_SIZE,\n",
    "    learning_rate=LEARNING_RATE\n",
    ")"
   ]
  },
  {
   "cell_type": "code",
   "execution_count": null,
   "metadata": {},
   "outputs": [],
   "source": [
    "# Test the model\n",
    "test_samples = [\n",
    "    \"кыргызcтан онугот\",\n",
    "    \"мен онугом\",\n",
    "    \"биз онугобуз\"\n",
    "]\n",
    "\n",
    "test_model(model, dataset, test_samples)"
   ]
  }
 ],
 "metadata": {
  "accelerator": "GPU",
  "colab": {
   "name": "Kyrgyz_Diacritics_Restorer.ipynb",
   "private_outputs": true,
   "provenance": []
  },
  "kernelspec": {
   "display_name": "Python 3",
   "language": "python",
   "name": "python3"
  },
  "language_info": {
   "codemirror_mode": {
    "name": "ipython",
    "version": 3
   },
   "file_extension": ".py",
   "mimetype": "text/x-python",
   "name": "python",
   "nbconvert_exporter": "python",
   "pygments_lexer": "ipython3",
   "version": "3.8.0"
  }
 },
 "nbformat": 4,
 "nbformat_minor": 4
}
