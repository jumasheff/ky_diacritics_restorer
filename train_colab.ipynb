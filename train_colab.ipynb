{
 "cells": [
  {
   "cell_type": "markdown",
   "metadata": {},
   "source": [
    "# Kyrgyz Diacritics Restorer - Training\n",
    "\n",
    "This notebook demonstrates the training process for the Kyrgyz diacritics restoration model using a small example dataset."
   ]
  },
  {
   "cell_type": "code",
   "execution_count": null,
   "metadata": {},
   "outputs": [],
   "source": [
    "# Clone the repository\n",
    "!git clone https://github.com/jumasheff/ky_diacritics_restorer.git\n",
    "%cd ky_diacritics_restorer"
   ]
  },
  {
   "cell_type": "code",
   "execution_count": null,
   "metadata": {},
   "outputs": [],
   "source": [
    "# Install required packages\n",
    "!pip install torch tqdm"
   ]
  },
  {
   "cell_type": "code",
   "execution_count": null,
   "metadata": {},
   "outputs": [],
   "source": [
    "import torch\n",
    "import torch.nn as nn\n",
    "from torch.utils.data import DataLoader, random_split\n",
    "from torch.optim.lr_scheduler import ReduceLROnPlateau\n",
    "from tqdm.notebook import tqdm\n",
    "import random\n",
    "import numpy as np\n",
    "import matplotlib.pyplot as plt"
   ]
  },
  {
   "cell_type": "code",
   "execution_count": null,
   "metadata": {},
   "outputs": [],
   "source": [
    "# Import model and dataset classes\n",
    "from model import KyrgyzTextDataset, TransformerDiacriticsRestorer, train_model, restore_diacritics\n",
    "\n",
    "# Set device\n",
    "device = torch.device('cuda' if torch.cuda.is_available() else 'cpu')\n",
    "print(f\"Using device: {device}\")"
   ]
  },
  {
   "cell_type": "code",
   "execution_count": null,
   "metadata": {},
   "outputs": [],
   "source": [
    "# Set random seed for reproducibility\n",
    "def set_seed(seed=42):\n",
    "    random.seed(seed)\n",
    "    np.random.seed(seed)\n",
    "    torch.manual_seed(seed)\n",
    "    torch.cuda.manual_seed_all(seed)\n",
    "    torch.backends.cudnn.deterministic = True\n",
    "\n",
    "set_seed()"
   ]
  },
  {
   "cell_type": "code",
   "execution_count": null,
   "metadata": {},
   "outputs": [],
   "source": [
    "# Hyperparameters\n",
    "D_MODEL = 256  # Embedding & transformer dimension\n",
    "N_HEAD = 8     # Number of attention heads\n",
    "N_LAYERS = 4   # Reduced number of transformer layers for faster training\n",
    "DIM_FEEDFORWARD = 1024\n",
    "DROPOUT = 0.1\n",
    "BATCH_SIZE = 32  # Smaller batch size for example dataset\n",
    "N_EPOCHS = 50    # Fewer epochs for testing\n",
    "LEARNING_RATE = 0.0003\n",
    "PATIENCE = 5\n",
    "VAL_SPLIT = 0.2  # 20% for validation due to small dataset"
   ]
  },
  {
   "cell_type": "code",
   "execution_count": null,
   "metadata": {},
   "outputs": [],
   "source": [
    "# Load and split dataset\n",
    "dataset = KyrgyzTextDataset('example_dataset.tsv')\n",
    "\n",
    "# Split into train and validation sets\n",
    "val_size = int(len(dataset) * VAL_SPLIT)\n",
    "train_size = len(dataset) - val_size\n",
    "train_dataset, val_dataset = random_split(dataset, [train_size, val_size])\n",
    "\n",
    "train_loader = DataLoader(train_dataset, batch_size=BATCH_SIZE, shuffle=True)\n",
    "val_loader = DataLoader(val_dataset, batch_size=BATCH_SIZE)\n",
    "\n",
    "print(f\"Training samples: {train_size}\")\n",
    "print(f\"Validation samples: {val_size}\")\n",
    "print(f\"Vocabulary size: {dataset.vocab_size}\")"
   ]
  },
  {
   "cell_type": "code",
   "execution_count": null,
   "metadata": {},
   "outputs": [],
   "source": [
    "# Initialize model\n",
    "model = TransformerDiacriticsRestorer(\n",
    "    vocab_size=dataset.vocab_size,\n",
    "    d_model=D_MODEL,\n",
    "    nhead=N_HEAD,\n",
    "    num_layers=N_LAYERS,\n",
    "    dim_feedforward=DIM_FEEDFORWARD,\n",
    "    dropout=DROPOUT\n",
    ").to(device)\n",
    "\n",
    "# Loss, optimizer and scheduler\n",
    "criterion = nn.CrossEntropyLoss(ignore_index=dataset.pad_idx)\n",
    "optimizer = torch.optim.AdamW(model.parameters(), lr=LEARNING_RATE, weight_decay=0.01)\n",
    "scheduler = ReduceLROnPlateau(optimizer, mode='min', factor=0.5, patience=2, verbose=True)"
   ]
  },
  {
   "cell_type": "code",
   "execution_count": null,
   "metadata": {},
   "outputs": [],
   "source": [
    "def validate_model(model, val_loader, criterion, device):\n",
    "    model.eval()\n",
    "    total_loss = 0\n",
    "    with torch.no_grad():\n",
    "        for batch in val_loader:\n",
    "            src = batch['input'].to(device)\n",
    "            trg = batch['target'].to(device)\n",
    "            padding_mask = src == model.embedding.num_embeddings - 1\n",
    "            \n",
    "            output = model(src, src_padding_mask=padding_mask)\n",
    "            \n",
    "            output_dim = output.shape[-1]\n",
    "            output = output.reshape(-1, output_dim)\n",
    "            trg = trg.reshape(-1)\n",
    "            \n",
    "            loss = criterion(output, trg)\n",
    "            total_loss += loss.item()\n",
    "    \n",
    "    return total_loss / len(val_loader)"
   ]
  },
  {
   "cell_type": "code",
   "execution_count": null,
   "metadata": {},
   "outputs": [],
   "source": [
    "# Training loop with progress tracking\n",
    "train_losses = []\n",
    "val_losses = []\n",
    "best_val_loss = float('inf')\n",
    "patience_counter = 0\n",
    "\n",
    "for epoch in range(N_EPOCHS):\n",
    "    # Training\n",
    "    train_loss = train_model(model, train_loader, optimizer, criterion, device)\n",
    "    train_losses.append(train_loss)\n",
    "    \n",
    "    # Validation\n",
    "    val_loss = validate_model(model, val_loader, criterion, device)\n",
    "    val_losses.append(val_loss)\n",
    "    \n",
    "    # Learning rate scheduling\n",
    "    scheduler.step(val_loss)\n",
    "    \n",
    "    print(f'Epoch: {epoch+1}')\n",
    "    print(f'Training Loss: {train_loss:.4f}')\n",
    "    print(f'Validation Loss: {val_loss:.4f}')\n",
    "    \n",
    "    # Save best model and early stopping\n",
    "    if val_loss < best_val_loss:\n",
    "        best_val_loss = val_loss\n",
    "        torch.save({\n",
    "            'epoch': epoch,\n",
    "            'model_state_dict': model.state_dict(),\n",
    "            'optimizer_state_dict': optimizer.state_dict(),\n",
    "            'train_loss': train_loss,\n",
    "            'val_loss': val_loss,\n",
    "        }, 'best_model.pt')\n",
    "        print(f'Model saved with validation loss: {best_val_loss:.4f}')\n",
    "        patience_counter = 0\n",
    "    else:\n",
    "        patience_counter += 1\n",
    "        if patience_counter >= PATIENCE:\n",
    "            print('Early stopping triggered')\n",
    "            break\n",
    "            \n",
    "    # Test examples every 10 epochs\n",
    "    if (epoch + 1) % 10 == 0:\n",
    "        model.eval()\n",
    "        test_sentences = [\n",
    "            \"менин уйум чон.\",\n",
    "            \"кочодо коп машина бар.\",\n",
    "            \"бугун кун ысык.\"\n",
    "        ]\n",
    "        print(\"\\nTesting examples:\")\n",
    "        for sent in test_sentences:\n",
    "            restored = restore_diacritics(model, sent, dataset, device)\n",
    "            print(f'Input:  {sent}')\n",
    "            print(f'Output: {restored}\\n')"
   ]
  },
  {
   "cell_type": "code",
   "execution_count": null,
   "metadata": {},
   "outputs": [],
   "source": [
    "# Plot training and validation losses\n",
    "plt.figure(figsize=(10, 6))\n",
    "plt.plot(train_losses, label='Training Loss')\n",
    "plt.plot(val_losses, label='Validation Loss')\n",
    "plt.xlabel('Epoch')\n",
    "plt.ylabel('Loss')\n",
    "plt.title('Training and Validation Losses')\n",
    "plt.legend()\n",
    "plt.grid(True)\n",
    "plt.show()"
   ]
  },
  {
   "cell_type": "code",
   "execution_count": null,
   "metadata": {},
   "outputs": [],
   "source": [
    "# Test the model on some new examples\n",
    "model.eval()\n",
    "test_sentences = [\n",
    "    \"биз тоого чыгып, таза аба жутабыз.\",\n",
    "    \"ал китеп окуганды жакшы корот.\",\n",
    "    \"балдар мектепке эртен барышат.\"\n",
    "]\n",
    "\n",
    "print(\"Final model test:\")\n",
    "for sent in test_sentences:\n",
    "    restored = restore_diacritics(model, sent, dataset, device)\n",
    "    print(f'Input:  {sent}')\n",
    "    print(f'Output: {restored}\\n')"
   ]
  }
 ],
 "metadata": {
  "accelerator": "GPU",
  "colab": {
   "name": "train_kyrgyz_diacritics.ipynb",
   "private_outputs": true
  },
  "kernelspec": {
   "display_name": "Python 3",
   "language": "python",
   "name": "python3"
  },
  "language_info": {
   "codemirror_mode": {
    "name": "ipython",
    "version": 3
   },
   "file_extension": ".py",
   "mimetype": "text/x-python",
   "name": "python",
   "nbconvert_exporter": "python",
   "pygments_lexer": "ipython3",
   "version": "3.8.0"
  }
 },
 "nbformat": 4,
 "nbformat_minor": 4
}
