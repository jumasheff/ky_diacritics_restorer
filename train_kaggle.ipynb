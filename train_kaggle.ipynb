{
 "cells": [
  {
   "cell_type": "markdown",
   "metadata": {},
   "source": [
    "# Kyrgyz Diacritics Restorer Training\n",
    "\n",
    "This notebook trains a model to restore diacritics in Kyrgyz text using Transformer architecture. The training process is tracked using Weights & Biases, and the final model is uploaded to Hugging Face Hub."
   ]
  },
  {
   "cell_type": "code",
   "execution_count": null,
   "metadata": {},
   "outputs": [],
   "source": [
    "# Install required packages\n",
    "!pip install wandb transformers huggingface-hub\n",
    "\n",
    "# Clone the repository\n",
    "!git clone https://github.com/jumasheff/ky_diacritics_restorer.git\n",
    "%cd ky_diacritics_restorer"
   ]
  },
  {
   "cell_type": "code",
   "execution_count": null,
   "metadata": {},
   "outputs": [],
   "source": [
    "# Unzip the dataset from Kaggle input directory\n",
    "import os\n",
    "import glob\n",
    "\n",
    "# Find the dataset zip file\n",
    "dataset_path = glob.glob(\"/kaggle/input/**/ky_diacritics_dataset.zip\", recursive=True)[0]\n",
    "print(f\"Found dataset at: {dataset_path}\")\n",
    "\n",
    "# Create directory if it doesn't exist\n",
    "!mkdir -p data\n",
    "\n",
    "# Unzip the dataset\n",
    "!unzip -o {dataset_path} -d data/\n",
    "\n",
    "# Verify the files\n",
    "print(\"\\nExtracted files:\")\n",
    "!ls -lh data/"
   ]
  },
  {
   "cell_type": "code",
   "execution_count": null,
   "metadata": {},
   "outputs": [],
   "source": [
    "# Import necessary libraries\n",
    "import torch\n",
    "from model import KyrgyzTextDataset, DiacriticsRestorer\n",
    "from train import train, test_model\n",
    "import wandb\n",
    "from huggingface_hub import HfApi, upload_file\n",
    "import os\n",
    "from getpass import getpass"
   ]
  },
  {
   "cell_type": "code",
   "execution_count": null,
   "metadata": {},
   "outputs": [],
   "source": [
    "# Login to wandb and Hugging Face\n",
    "wandb_key = getpass(\"Enter your Weights & Biases API key: \")\n",
    "wandb.login(key=wandb_key)\n",
    "\n",
    "hf_token = getpass(\"Enter your Hugging Face token: \")\n",
    "api = HfApi(token=hf_token)\n",
    "\n",
    "# Create Hugging Face repo if it doesn't exist\n",
    "repo_name = \"murat/ky-diacritics-restorer\"\n",
    "try:\n",
    "    api.create_repo(repo_name, exist_ok=True)\n",
    "except Exception as e:\n",
    "    print(f\"Note: {e}\")"
   ]
  },
  {
   "cell_type": "code",
   "execution_count": null,
   "metadata": {},
   "outputs": [],
   "source": [
    "# Set training parameters\n",
    "EPOCHS = 10\n",
    "BATCH_SIZE = 32\n",
    "LEARNING_RATE = 1e-4\n",
    "PROJECT_NAME = \"ky-diacritics-restorer\"\n",
    "\n",
    "# Check if GPU is available\n",
    "device = torch.device('cuda' if torch.cuda.is_available() else 'cpu')\n",
    "print(f'Using device: {device}')"
   ]
  },
  {
   "cell_type": "code",
   "execution_count": null,
   "metadata": {},
   "outputs": [],
   "source": [
    "# Load dataset\n",
    "dataset = KyrgyzTextDataset(\n",
    "    #'data/dataset.tsv',  # Updated path to the extracted dataset\n",
    "    'example_dataset.tsv', # demo run to check if the code works end to end\n",
    "    max_len=512,\n",
    "    sample_ratio=0.25,  # Use 25% of the data\n",
    "    val_ratio=0.1,      # 10% of that 25% will be validation\n",
    "    seed=42             # For reproducibility\n",
    ")\n",
    "\n",
    "# Print dataset information\n",
    "info = dataset.get_dataset_info()\n",
    "print(\"\\nDataset Information:\")\n",
    "print(f\"Total samples: {info['total_samples']}\")\n",
    "print(f\"Used samples: {info['used_samples']}\")\n",
    "print(f\"Training samples: {info['train_samples']}\")\n",
    "print(f\"Validation samples: {info['val_samples']}\")\n",
    "print(f\"Vocabulary size: {info['vocab_size']}\")\n",
    "print(f\"Max sequence length: {info['max_len']}\")"
   ]
  },
  {
   "cell_type": "code",
   "execution_count": null,
   "metadata": {},
   "outputs": [],
   "source": [
    "# Create model\n",
    "model = DiacriticsRestorer(\n",
    "    vocab_size=len(dataset.char_to_idx),\n",
    "    d_model=256,\n",
    "    nhead=8,\n",
    "    num_encoder_layers=6,\n",
    "    dim_feedforward=1024,\n",
    "    dropout=0.1,\n",
    "    max_len=512\n",
    ")"
   ]
  },
  {
   "cell_type": "code",
   "execution_count": null,
   "metadata": {},
   "outputs": [],
   "source": [
    "# Train model with wandb tracking\n",
    "train_losses, val_losses = train(\n",
    "    model=model,\n",
    "    dataset=dataset,\n",
    "    epochs=EPOCHS,\n",
    "    batch_size=BATCH_SIZE,\n",
    "    learning_rate=LEARNING_RATE,\n",
    "    project_name=PROJECT_NAME\n",
    ")"
   ]
  },
  {
   "cell_type": "code",
   "execution_count": null,
   "metadata": {},
   "outputs": [],
   "source": [
    "# Test the model\n",
    "test_samples = [\n",
    "    \"кыргызcтан онугот\",\n",
    "    \"мен онугом\",\n",
    "    \"биз онугобуз\"\n",
    "]\n",
    "\n",
    "test_model(model, dataset, test_samples)"
   ]
  },
  {
   "cell_type": "code",
   "execution_count": null,
   "metadata": {},
   "outputs": [],
   "source": [
    "# Save and upload model to Hugging Face Hub\n",
    "def save_and_upload_model(model, dataset, repo_name):\n",
    "    # Save model and vocabulary\n",
    "    model_path = \"model.pt\"\n",
    "    vocab_path = \"vocab.json\"\n",
    "    config_path = \"config.json\"\n",
    "    \n",
    "    # Save model state\n",
    "    torch.save(model.state_dict(), model_path)\n",
    "    \n",
    "    # Save vocabulary\n",
    "    import json\n",
    "    with open(vocab_path, 'w', encoding='utf-8') as f:\n",
    "        json.dump({\n",
    "            'char_to_idx': dataset.char_to_idx,\n",
    "            'idx_to_char': dataset.idx_to_char\n",
    "        }, f, ensure_ascii=False, indent=2)\n",
    "    \n",
    "    # Save model config\n",
    "    config = {\n",
    "        'vocab_size': len(dataset.char_to_idx),\n",
    "        'd_model': model.d_model,\n",
    "        'nhead': 8,\n",
    "        'num_encoder_layers': 6,\n",
    "        'dim_feedforward': 1024,\n",
    "        'dropout': 0.1,\n",
    "        'max_len': 512\n",
    "    }\n",
    "    \n",
    "    with open(config_path, 'w') as f:\n",
    "        json.dump(config, f, indent=2)\n",
    "    \n",
    "    # Upload files to Hugging Face\n",
    "    api.upload_file(\n",
    "        path_or_fileobj=model_path,\n",
    "        path_in_repo=model_path,\n",
    "        repo_id=repo_name\n",
    "    )\n",
    "    \n",
    "    api.upload_file(\n",
    "        path_or_fileobj=vocab_path,\n",
    "        path_in_repo=vocab_path,\n",
    "        repo_id=repo_name\n",
    "    )\n",
    "    \n",
    "    api.upload_file(\n",
    "        path_or_fileobj=config_path,\n",
    "        path_in_repo=config_path,\n",
    "        repo_id=repo_name\n",
    "    )\n",
    "    \n",
    "    print(f\"Model and associated files uploaded to {repo_name}\")\n",
    "\n",
    "# Upload the model\n",
    "save_and_upload_model(model, dataset, repo_name)"
   ]
  }
 ],
 "metadata": {
  "kernelspec": {
   "display_name": "Python 3",
   "language": "python",
   "name": "python3"
  },
  "language_info": {
   "codemirror_mode": {
    "name": "ipython",
    "version": 3
   },
   "file_extension": ".py",
   "mimetype": "text/x-python",
   "name": "python",
   "nbconvert_exporter": "python",
   "pygments_lexer": "ipython3",
   "version": "3.8.0"
  }
 },
 "nbformat": 4,
 "nbformat_minor": 4
}
